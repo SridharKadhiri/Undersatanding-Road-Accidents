{
 "cells": [
  {
   "cell_type": "code",
   "execution_count": 1,
   "id": "7606d2d1",
   "metadata": {},
   "outputs": [],
   "source": [
    "import pandas as pd\n",
    "import numpy as np\n",
    "import matplotlib.pyplot as plt\n",
    "import seaborn as sns\n",
    "\n",
    "sns.set_palette(\"inferno\")\n"
   ]
  },
  {
   "cell_type": "code",
   "execution_count": 2,
   "id": "cb903cf6",
   "metadata": {},
   "outputs": [
    {
     "name": "stdout",
     "output_type": "stream",
     "text": [
      " Volume in drive C is Shikaku\n",
      " Volume Serial Number is 88A2-876A\n",
      "\n",
      " Directory of C:\\Users\\94407\\Downloads\\Road Accident dashboard\n",
      "\n",
      "10/01/2023  12:14 PM    <DIR>          .\n",
      "09/29/2023  09:50 PM    <DIR>          ..\n",
      "09/24/2023  08:59 PM    <DIR>          .ipynb_checkpoints\n",
      "09/24/2023  08:57 PM        91,687,717 accident data.csv\n",
      "09/24/2023  08:57 PM           971,099 Background.pptx\n",
      "09/24/2023  08:57 PM        10,655,233 Data.rar\n",
      "10/01/2023  12:14 PM           258,333 EDA on Vehicle Accidents.ipynb\n",
      "09/24/2023  08:57 PM    <DIR>          Road Accident Dashboard-20230924T152627Z-001\n",
      "09/24/2023  08:56 PM        22,811,784 Road Accident Dashboard-20230924T152627Z-001.zip\n",
      "09/24/2023  08:57 PM    <DIR>          Vehicle Images\n",
      "               5 File(s)    126,384,166 bytes\n",
      "               5 Dir(s)  93,256,245,248 bytes free\n"
     ]
    }
   ],
   "source": [
    "!dir"
   ]
  },
  {
   "cell_type": "code",
   "execution_count": 3,
   "id": "9de8f56e",
   "metadata": {},
   "outputs": [
    {
     "data": {
      "text/html": [
       "<div>\n",
       "<style scoped>\n",
       "    .dataframe tbody tr th:only-of-type {\n",
       "        vertical-align: middle;\n",
       "    }\n",
       "\n",
       "    .dataframe tbody tr th {\n",
       "        vertical-align: top;\n",
       "    }\n",
       "\n",
       "    .dataframe thead th {\n",
       "        text-align: right;\n",
       "    }\n",
       "</style>\n",
       "<table border=\"1\" class=\"dataframe\">\n",
       "  <thead>\n",
       "    <tr style=\"text-align: right;\">\n",
       "      <th></th>\n",
       "      <th>Index</th>\n",
       "      <th>Accident_Severity</th>\n",
       "      <th>Accident Date</th>\n",
       "      <th>Latitude</th>\n",
       "      <th>Light_Conditions</th>\n",
       "      <th>District Area</th>\n",
       "      <th>Longitude</th>\n",
       "      <th>Number_of_Casualties</th>\n",
       "      <th>Number_of_Vehicles</th>\n",
       "      <th>Road_Surface_Conditions</th>\n",
       "      <th>Road_Type</th>\n",
       "      <th>Urban_or_Rural_Area</th>\n",
       "      <th>Weather_Conditions</th>\n",
       "      <th>Vehicle_Type</th>\n",
       "    </tr>\n",
       "  </thead>\n",
       "  <tbody>\n",
       "    <tr>\n",
       "      <th>0</th>\n",
       "      <td>200701BS64157</td>\n",
       "      <td>Serious</td>\n",
       "      <td>05-06-2019</td>\n",
       "      <td>51.506187</td>\n",
       "      <td>Darkness - lights lit</td>\n",
       "      <td>Kensington and Chelsea</td>\n",
       "      <td>-0.209082</td>\n",
       "      <td>1</td>\n",
       "      <td>2</td>\n",
       "      <td>Dry</td>\n",
       "      <td>Single carriageway</td>\n",
       "      <td>Urban</td>\n",
       "      <td>Fine no high winds</td>\n",
       "      <td>Car</td>\n",
       "    </tr>\n",
       "    <tr>\n",
       "      <th>1</th>\n",
       "      <td>200701BS65737</td>\n",
       "      <td>Serious</td>\n",
       "      <td>02-07-2019</td>\n",
       "      <td>51.495029</td>\n",
       "      <td>Daylight</td>\n",
       "      <td>Kensington and Chelsea</td>\n",
       "      <td>-0.173647</td>\n",
       "      <td>1</td>\n",
       "      <td>2</td>\n",
       "      <td>Wet or damp</td>\n",
       "      <td>Single carriageway</td>\n",
       "      <td>Urban</td>\n",
       "      <td>Raining no high winds</td>\n",
       "      <td>Car</td>\n",
       "    </tr>\n",
       "    <tr>\n",
       "      <th>2</th>\n",
       "      <td>200701BS66127</td>\n",
       "      <td>Serious</td>\n",
       "      <td>26-08-2019</td>\n",
       "      <td>51.517715</td>\n",
       "      <td>Darkness - lighting unknown</td>\n",
       "      <td>Kensington and Chelsea</td>\n",
       "      <td>-0.210215</td>\n",
       "      <td>1</td>\n",
       "      <td>3</td>\n",
       "      <td>Dry</td>\n",
       "      <td>NaN</td>\n",
       "      <td>Urban</td>\n",
       "      <td>NaN</td>\n",
       "      <td>Taxi/Private hire car</td>\n",
       "    </tr>\n",
       "    <tr>\n",
       "      <th>3</th>\n",
       "      <td>200701BS66128</td>\n",
       "      <td>Serious</td>\n",
       "      <td>16-08-2019</td>\n",
       "      <td>51.495478</td>\n",
       "      <td>Daylight</td>\n",
       "      <td>Kensington and Chelsea</td>\n",
       "      <td>-0.202731</td>\n",
       "      <td>1</td>\n",
       "      <td>4</td>\n",
       "      <td>Dry</td>\n",
       "      <td>Single carriageway</td>\n",
       "      <td>Urban</td>\n",
       "      <td>Fine no high winds</td>\n",
       "      <td>Bus or coach (17 or more pass seats)</td>\n",
       "    </tr>\n",
       "    <tr>\n",
       "      <th>4</th>\n",
       "      <td>200701BS66837</td>\n",
       "      <td>Slight</td>\n",
       "      <td>03-09-2019</td>\n",
       "      <td>51.488576</td>\n",
       "      <td>Darkness - lights lit</td>\n",
       "      <td>Kensington and Chelsea</td>\n",
       "      <td>-0.192487</td>\n",
       "      <td>1</td>\n",
       "      <td>2</td>\n",
       "      <td>Dry</td>\n",
       "      <td>NaN</td>\n",
       "      <td>Urban</td>\n",
       "      <td>NaN</td>\n",
       "      <td>Other vehicle</td>\n",
       "    </tr>\n",
       "  </tbody>\n",
       "</table>\n",
       "</div>"
      ],
      "text/plain": [
       "           Index Accident_Severity Accident Date   Latitude  \\\n",
       "0  200701BS64157           Serious    05-06-2019  51.506187   \n",
       "1  200701BS65737           Serious    02-07-2019  51.495029   \n",
       "2  200701BS66127           Serious    26-08-2019  51.517715   \n",
       "3  200701BS66128           Serious    16-08-2019  51.495478   \n",
       "4  200701BS66837            Slight    03-09-2019  51.488576   \n",
       "\n",
       "              Light_Conditions           District Area  Longitude  \\\n",
       "0        Darkness - lights lit  Kensington and Chelsea  -0.209082   \n",
       "1                     Daylight  Kensington and Chelsea  -0.173647   \n",
       "2  Darkness - lighting unknown  Kensington and Chelsea  -0.210215   \n",
       "3                     Daylight  Kensington and Chelsea  -0.202731   \n",
       "4        Darkness - lights lit  Kensington and Chelsea  -0.192487   \n",
       "\n",
       "   Number_of_Casualties  Number_of_Vehicles Road_Surface_Conditions  \\\n",
       "0                     1                   2                     Dry   \n",
       "1                     1                   2             Wet or damp   \n",
       "2                     1                   3                     Dry   \n",
       "3                     1                   4                     Dry   \n",
       "4                     1                   2                     Dry   \n",
       "\n",
       "            Road_Type Urban_or_Rural_Area     Weather_Conditions  \\\n",
       "0  Single carriageway               Urban     Fine no high winds   \n",
       "1  Single carriageway               Urban  Raining no high winds   \n",
       "2                 NaN               Urban                    NaN   \n",
       "3  Single carriageway               Urban     Fine no high winds   \n",
       "4                 NaN               Urban                    NaN   \n",
       "\n",
       "                           Vehicle_Type  \n",
       "0                                   Car  \n",
       "1                                   Car  \n",
       "2                 Taxi/Private hire car  \n",
       "3  Bus or coach (17 or more pass seats)  \n",
       "4                         Other vehicle  "
      ]
     },
     "execution_count": 3,
     "metadata": {},
     "output_type": "execute_result"
    }
   ],
   "source": [
    "data  = pd.read_csv(\"accident data.csv\")\n",
    "data.head()"
   ]
  },
  {
   "cell_type": "code",
   "execution_count": 4,
   "id": "4e9fd158",
   "metadata": {},
   "outputs": [
    {
     "name": "stdout",
     "output_type": "stream",
     "text": [
      "<class 'pandas.core.frame.DataFrame'>\n",
      "RangeIndex: 660679 entries, 0 to 660678\n",
      "Data columns (total 14 columns):\n",
      " #   Column                   Non-Null Count   Dtype  \n",
      "---  ------                   --------------   -----  \n",
      " 0   Index                    660679 non-null  object \n",
      " 1   Accident_Severity        660679 non-null  object \n",
      " 2   Accident Date            660679 non-null  object \n",
      " 3   Latitude                 660654 non-null  float64\n",
      " 4   Light_Conditions         660679 non-null  object \n",
      " 5   District Area            660679 non-null  object \n",
      " 6   Longitude                660653 non-null  float64\n",
      " 7   Number_of_Casualties     660679 non-null  int64  \n",
      " 8   Number_of_Vehicles       660679 non-null  int64  \n",
      " 9   Road_Surface_Conditions  659953 non-null  object \n",
      " 10  Road_Type                656159 non-null  object \n",
      " 11  Urban_or_Rural_Area      660664 non-null  object \n",
      " 12  Weather_Conditions       646551 non-null  object \n",
      " 13  Vehicle_Type             660679 non-null  object \n",
      "dtypes: float64(2), int64(2), object(10)\n",
      "memory usage: 70.6+ MB\n"
     ]
    }
   ],
   "source": [
    "data.info()"
   ]
  },
  {
   "cell_type": "code",
   "execution_count": 5,
   "id": "a7ed990f",
   "metadata": {},
   "outputs": [],
   "source": [
    "data[\"Accident Date\"] = pd.to_datetime(data[\"Accident Date\"],format=\"%d-%m-%Y\")"
   ]
  },
  {
   "cell_type": "code",
   "execution_count": 6,
   "id": "6977a9aa",
   "metadata": {},
   "outputs": [
    {
     "data": {
      "text/html": [
       "<div>\n",
       "<style scoped>\n",
       "    .dataframe tbody tr th:only-of-type {\n",
       "        vertical-align: middle;\n",
       "    }\n",
       "\n",
       "    .dataframe tbody tr th {\n",
       "        vertical-align: top;\n",
       "    }\n",
       "\n",
       "    .dataframe thead th {\n",
       "        text-align: right;\n",
       "    }\n",
       "</style>\n",
       "<table border=\"1\" class=\"dataframe\">\n",
       "  <thead>\n",
       "    <tr style=\"text-align: right;\">\n",
       "      <th></th>\n",
       "      <th>Index</th>\n",
       "      <th>Accident_Severity</th>\n",
       "      <th>Accident Date</th>\n",
       "      <th>Latitude</th>\n",
       "      <th>Light_Conditions</th>\n",
       "      <th>District Area</th>\n",
       "      <th>Longitude</th>\n",
       "      <th>Number_of_Casualties</th>\n",
       "      <th>Number_of_Vehicles</th>\n",
       "      <th>Road_Surface_Conditions</th>\n",
       "      <th>Road_Type</th>\n",
       "      <th>Urban_or_Rural_Area</th>\n",
       "      <th>Weather_Conditions</th>\n",
       "      <th>Vehicle_Type</th>\n",
       "    </tr>\n",
       "  </thead>\n",
       "  <tbody>\n",
       "    <tr>\n",
       "      <th>0</th>\n",
       "      <td>200701BS64157</td>\n",
       "      <td>Serious</td>\n",
       "      <td>2019-06-05</td>\n",
       "      <td>51.506187</td>\n",
       "      <td>Darkness - lights lit</td>\n",
       "      <td>Kensington and Chelsea</td>\n",
       "      <td>-0.209082</td>\n",
       "      <td>1</td>\n",
       "      <td>2</td>\n",
       "      <td>Dry</td>\n",
       "      <td>Single carriageway</td>\n",
       "      <td>Urban</td>\n",
       "      <td>Fine no high winds</td>\n",
       "      <td>Car</td>\n",
       "    </tr>\n",
       "    <tr>\n",
       "      <th>1</th>\n",
       "      <td>200701BS65737</td>\n",
       "      <td>Serious</td>\n",
       "      <td>2019-07-02</td>\n",
       "      <td>51.495029</td>\n",
       "      <td>Daylight</td>\n",
       "      <td>Kensington and Chelsea</td>\n",
       "      <td>-0.173647</td>\n",
       "      <td>1</td>\n",
       "      <td>2</td>\n",
       "      <td>Wet or damp</td>\n",
       "      <td>Single carriageway</td>\n",
       "      <td>Urban</td>\n",
       "      <td>Raining no high winds</td>\n",
       "      <td>Car</td>\n",
       "    </tr>\n",
       "    <tr>\n",
       "      <th>2</th>\n",
       "      <td>200701BS66127</td>\n",
       "      <td>Serious</td>\n",
       "      <td>2019-08-26</td>\n",
       "      <td>51.517715</td>\n",
       "      <td>Darkness - lighting unknown</td>\n",
       "      <td>Kensington and Chelsea</td>\n",
       "      <td>-0.210215</td>\n",
       "      <td>1</td>\n",
       "      <td>3</td>\n",
       "      <td>Dry</td>\n",
       "      <td>NaN</td>\n",
       "      <td>Urban</td>\n",
       "      <td>NaN</td>\n",
       "      <td>Taxi/Private hire car</td>\n",
       "    </tr>\n",
       "    <tr>\n",
       "      <th>3</th>\n",
       "      <td>200701BS66128</td>\n",
       "      <td>Serious</td>\n",
       "      <td>2019-08-16</td>\n",
       "      <td>51.495478</td>\n",
       "      <td>Daylight</td>\n",
       "      <td>Kensington and Chelsea</td>\n",
       "      <td>-0.202731</td>\n",
       "      <td>1</td>\n",
       "      <td>4</td>\n",
       "      <td>Dry</td>\n",
       "      <td>Single carriageway</td>\n",
       "      <td>Urban</td>\n",
       "      <td>Fine no high winds</td>\n",
       "      <td>Bus or coach (17 or more pass seats)</td>\n",
       "    </tr>\n",
       "    <tr>\n",
       "      <th>4</th>\n",
       "      <td>200701BS66837</td>\n",
       "      <td>Slight</td>\n",
       "      <td>2019-09-03</td>\n",
       "      <td>51.488576</td>\n",
       "      <td>Darkness - lights lit</td>\n",
       "      <td>Kensington and Chelsea</td>\n",
       "      <td>-0.192487</td>\n",
       "      <td>1</td>\n",
       "      <td>2</td>\n",
       "      <td>Dry</td>\n",
       "      <td>NaN</td>\n",
       "      <td>Urban</td>\n",
       "      <td>NaN</td>\n",
       "      <td>Other vehicle</td>\n",
       "    </tr>\n",
       "  </tbody>\n",
       "</table>\n",
       "</div>"
      ],
      "text/plain": [
       "           Index Accident_Severity Accident Date   Latitude  \\\n",
       "0  200701BS64157           Serious    2019-06-05  51.506187   \n",
       "1  200701BS65737           Serious    2019-07-02  51.495029   \n",
       "2  200701BS66127           Serious    2019-08-26  51.517715   \n",
       "3  200701BS66128           Serious    2019-08-16  51.495478   \n",
       "4  200701BS66837            Slight    2019-09-03  51.488576   \n",
       "\n",
       "              Light_Conditions           District Area  Longitude  \\\n",
       "0        Darkness - lights lit  Kensington and Chelsea  -0.209082   \n",
       "1                     Daylight  Kensington and Chelsea  -0.173647   \n",
       "2  Darkness - lighting unknown  Kensington and Chelsea  -0.210215   \n",
       "3                     Daylight  Kensington and Chelsea  -0.202731   \n",
       "4        Darkness - lights lit  Kensington and Chelsea  -0.192487   \n",
       "\n",
       "   Number_of_Casualties  Number_of_Vehicles Road_Surface_Conditions  \\\n",
       "0                     1                   2                     Dry   \n",
       "1                     1                   2             Wet or damp   \n",
       "2                     1                   3                     Dry   \n",
       "3                     1                   4                     Dry   \n",
       "4                     1                   2                     Dry   \n",
       "\n",
       "            Road_Type Urban_or_Rural_Area     Weather_Conditions  \\\n",
       "0  Single carriageway               Urban     Fine no high winds   \n",
       "1  Single carriageway               Urban  Raining no high winds   \n",
       "2                 NaN               Urban                    NaN   \n",
       "3  Single carriageway               Urban     Fine no high winds   \n",
       "4                 NaN               Urban                    NaN   \n",
       "\n",
       "                           Vehicle_Type  \n",
       "0                                   Car  \n",
       "1                                   Car  \n",
       "2                 Taxi/Private hire car  \n",
       "3  Bus or coach (17 or more pass seats)  \n",
       "4                         Other vehicle  "
      ]
     },
     "execution_count": 6,
     "metadata": {},
     "output_type": "execute_result"
    }
   ],
   "source": [
    "data.head()"
   ]
  },
  {
   "cell_type": "code",
   "execution_count": 7,
   "id": "d17880a5",
   "metadata": {},
   "outputs": [
    {
     "name": "stdout",
     "output_type": "stream",
     "text": [
      "<class 'pandas.core.frame.DataFrame'>\n",
      "RangeIndex: 660679 entries, 0 to 660678\n",
      "Data columns (total 14 columns):\n",
      " #   Column                   Non-Null Count   Dtype         \n",
      "---  ------                   --------------   -----         \n",
      " 0   Index                    660679 non-null  object        \n",
      " 1   Accident_Severity        660679 non-null  object        \n",
      " 2   Accident Date            660679 non-null  datetime64[ns]\n",
      " 3   Latitude                 660654 non-null  float64       \n",
      " 4   Light_Conditions         660679 non-null  object        \n",
      " 5   District Area            660679 non-null  object        \n",
      " 6   Longitude                660653 non-null  float64       \n",
      " 7   Number_of_Casualties     660679 non-null  int64         \n",
      " 8   Number_of_Vehicles       660679 non-null  int64         \n",
      " 9   Road_Surface_Conditions  659953 non-null  object        \n",
      " 10  Road_Type                656159 non-null  object        \n",
      " 11  Urban_or_Rural_Area      660664 non-null  object        \n",
      " 12  Weather_Conditions       646551 non-null  object        \n",
      " 13  Vehicle_Type             660679 non-null  object        \n",
      "dtypes: datetime64[ns](1), float64(2), int64(2), object(9)\n",
      "memory usage: 70.6+ MB\n"
     ]
    }
   ],
   "source": [
    "data.info()"
   ]
  },
  {
   "cell_type": "code",
   "execution_count": 8,
   "id": "6d8c28ac",
   "metadata": {},
   "outputs": [],
   "source": [
    "df1 = data.copy()"
   ]
  },
  {
   "cell_type": "code",
   "execution_count": 9,
   "id": "77d96035",
   "metadata": {},
   "outputs": [
    {
     "data": {
      "text/plain": [
       "Slight     563801\n",
       "Serious     88217\n",
       "Fatal        8661\n",
       "Name: Accident_Severity, dtype: int64"
      ]
     },
     "execution_count": 9,
     "metadata": {},
     "output_type": "execute_result"
    }
   ],
   "source": [
    "df1[\"Accident_Severity\"].value_counts()"
   ]
  },
  {
   "cell_type": "code",
   "execution_count": 10,
   "id": "d47cb3ae",
   "metadata": {},
   "outputs": [
    {
     "data": {
      "text/plain": [
       "Daylight                       484880\n",
       "Darkness - lights lit          129335\n",
       "Darkness - no lighting          37437\n",
       "Darkness - lighting unknown      6484\n",
       "Darkness - lights unlit          2543\n",
       "Name: Light_Conditions, dtype: int64"
      ]
     },
     "execution_count": 10,
     "metadata": {},
     "output_type": "execute_result"
    }
   ],
   "source": [
    "df1[\"Light_Conditions\"].value_counts()"
   ]
  },
  {
   "cell_type": "code",
   "execution_count": 11,
   "id": "811e1fce",
   "metadata": {},
   "outputs": [
    {
     "data": {
      "text/plain": [
       "Dry                     447821\n",
       "Wet or damp             186708\n",
       "Frost or ice             18517\n",
       "Snow                      5890\n",
       "Flood over 3cm. deep      1017\n",
       "Name: Road_Surface_Conditions, dtype: int64"
      ]
     },
     "execution_count": 11,
     "metadata": {},
     "output_type": "execute_result"
    }
   ],
   "source": [
    "df1[\"Road_Surface_Conditions\"].value_counts()"
   ]
  },
  {
   "cell_type": "markdown",
   "id": "4368db19",
   "metadata": {},
   "source": [
    "## I am trying to find the no. of unique values in all the columns which are not intergers"
   ]
  },
  {
   "cell_type": "code",
   "execution_count": 12,
   "id": "c1febc3f",
   "metadata": {},
   "outputs": [
    {
     "name": "stdout",
     "output_type": "stream",
     "text": [
      "2.01E+12         239478\n",
      "2.01E+282             4\n",
      "2.01E+86              4\n",
      "2.01E+98              4\n",
      "2.01E+197             4\n",
      "                  ...  \n",
      "200804BC08155         1\n",
      "200804BC08153         1\n",
      "200804BC08152         1\n",
      "200804BC08151         1\n",
      "201091NM02142         1\n",
      "Name: Index, Length: 421020, dtype: int64\n",
      "No of Unique values :  421020\n",
      "******************************\n",
      "Slight     563801\n",
      "Serious     88217\n",
      "Fatal        8661\n",
      "Name: Accident_Severity, dtype: int64\n",
      "No of Unique values :  3\n",
      "******************************\n",
      "Daylight                       484880\n",
      "Darkness - lights lit          129335\n",
      "Darkness - no lighting          37437\n",
      "Darkness - lighting unknown      6484\n",
      "Darkness - lights unlit          2543\n",
      "Name: Light_Conditions, dtype: int64\n",
      "No of Unique values :  5\n",
      "******************************\n",
      "Birmingham            13491\n",
      "Leeds                  8898\n",
      "Manchester             6720\n",
      "Bradford               6212\n",
      "Sheffield              5710\n",
      "                      ...  \n",
      "Berwick-upon-Tweed      153\n",
      "Teesdale                142\n",
      "Shetland Islands        133\n",
      "Orkney Islands          117\n",
      "Clackmannanshire         91\n",
      "Name: District Area, Length: 422, dtype: int64\n",
      "No of Unique values :  422\n",
      "******************************\n",
      "Dry                     447821\n",
      "Wet or damp             186708\n",
      "Frost or ice             18517\n",
      "Snow                      5890\n",
      "Flood over 3cm. deep      1017\n",
      "Name: Road_Surface_Conditions, dtype: int64\n",
      "No of Unique values :  5\n",
      "******************************\n",
      "Single carriageway    492143\n",
      "Dual carriageway       99424\n",
      "Roundabout             43992\n",
      "One way street         13559\n",
      "Slip road               7041\n",
      "Name: Road_Type, dtype: int64\n",
      "No of Unique values :  5\n",
      "******************************\n",
      "Urban          421663\n",
      "Rural          238990\n",
      "Unallocated        11\n",
      "Name: Urban_or_Rural_Area, dtype: int64\n",
      "No of Unique values :  3\n",
      "******************************\n",
      "Fine no high winds       520885\n",
      "Raining no high winds     79696\n",
      "Other                     17150\n",
      "Raining + high winds       9615\n",
      "Fine + high winds          8554\n",
      "Snowing no high winds      6238\n",
      "Fog or mist                3528\n",
      "Snowing + high winds        885\n",
      "Name: Weather_Conditions, dtype: int64\n",
      "No of Unique values :  8\n",
      "******************************\n",
      "Car                                      497992\n",
      "Van / Goods 3.5 tonnes mgw or under       34160\n",
      "Bus or coach (17 or more pass seats)      25878\n",
      "Motorcycle over 500cc                     25657\n",
      "Goods 7.5 tonnes mgw and over             17307\n",
      "Motorcycle 125cc and under                15269\n",
      "Taxi/Private hire car                     13294\n",
      "Motorcycle over 125cc and up to 500cc      7656\n",
      "Motorcycle 50cc and under                  7603\n",
      "Goods over 3.5t. and under 7.5t            6096\n",
      "Other vehicle                              5637\n",
      "Minibus (8 - 16 passenger seats)           1976\n",
      "Agricultural vehicle                       1947\n",
      "Pedal cycle                                 197\n",
      "Data missing or out of range                  6\n",
      "Ridden horse                                  4\n",
      "Name: Vehicle_Type, dtype: int64\n",
      "No of Unique values :  16\n",
      "******************************\n"
     ]
    }
   ],
   "source": [
    "for column in df1.columns:\n",
    "    if type(df1[column][1]) == str:\n",
    "        print(df1[column].value_counts())\n",
    "        print(\"No of Unique values : \",len(df1[column].value_counts()))\n",
    "        print(\"*\" * 30)"
   ]
  },
  {
   "cell_type": "code",
   "execution_count": 13,
   "id": "51bff684",
   "metadata": {},
   "outputs": [],
   "source": [
    "# here we see the index as a string \n",
    "# lets convert it to an integer\n",
    "df1[\"Index\"] = pd.to_numeric(df1[\"Index\"],errors=\"coerce\")"
   ]
  },
  {
   "cell_type": "code",
   "execution_count": 14,
   "id": "3664b2b5",
   "metadata": {},
   "outputs": [
    {
     "data": {
      "text/plain": [
       "420418"
      ]
     },
     "execution_count": 14,
     "metadata": {},
     "output_type": "execute_result"
    }
   ],
   "source": [
    "# I have replaced the string values from the index column with Nan values\n",
    "df1.Index.isna().sum()"
   ]
  },
  {
   "cell_type": "code",
   "execution_count": 15,
   "id": "cae13805",
   "metadata": {},
   "outputs": [
    {
     "name": "stdout",
     "output_type": "stream",
     "text": [
      "<class 'pandas.core.frame.DataFrame'>\n",
      "RangeIndex: 660679 entries, 0 to 660678\n",
      "Data columns (total 14 columns):\n",
      " #   Column                   Non-Null Count   Dtype         \n",
      "---  ------                   --------------   -----         \n",
      " 0   Index                    240261 non-null  float64       \n",
      " 1   Accident_Severity        660679 non-null  object        \n",
      " 2   Accident Date            660679 non-null  datetime64[ns]\n",
      " 3   Latitude                 660654 non-null  float64       \n",
      " 4   Light_Conditions         660679 non-null  object        \n",
      " 5   District Area            660679 non-null  object        \n",
      " 6   Longitude                660653 non-null  float64       \n",
      " 7   Number_of_Casualties     660679 non-null  int64         \n",
      " 8   Number_of_Vehicles       660679 non-null  int64         \n",
      " 9   Road_Surface_Conditions  659953 non-null  object        \n",
      " 10  Road_Type                656159 non-null  object        \n",
      " 11  Urban_or_Rural_Area      660664 non-null  object        \n",
      " 12  Weather_Conditions       646551 non-null  object        \n",
      " 13  Vehicle_Type             660679 non-null  object        \n",
      "dtypes: datetime64[ns](1), float64(3), int64(2), object(8)\n",
      "memory usage: 70.6+ MB\n"
     ]
    }
   ],
   "source": [
    "df1.info()"
   ]
  },
  {
   "cell_type": "code",
   "execution_count": 16,
   "id": "7ebb0f51",
   "metadata": {},
   "outputs": [
    {
     "name": "stdout",
     "output_type": "stream",
     "text": [
      "<class 'pandas.core.frame.DataFrame'>\n",
      "RangeIndex: 660679 entries, 0 to 660678\n",
      "Data columns (total 14 columns):\n",
      " #   Column                   Non-Null Count   Dtype         \n",
      "---  ------                   --------------   -----         \n",
      " 0   Index                    660679 non-null  object        \n",
      " 1   Accident_Severity        660679 non-null  object        \n",
      " 2   Accident Date            660679 non-null  datetime64[ns]\n",
      " 3   Latitude                 660654 non-null  float64       \n",
      " 4   Light_Conditions         660679 non-null  object        \n",
      " 5   District Area            660679 non-null  object        \n",
      " 6   Longitude                660653 non-null  float64       \n",
      " 7   Number_of_Casualties     660679 non-null  int64         \n",
      " 8   Number_of_Vehicles       660679 non-null  int64         \n",
      " 9   Road_Surface_Conditions  659953 non-null  object        \n",
      " 10  Road_Type                656159 non-null  object        \n",
      " 11  Urban_or_Rural_Area      660664 non-null  object        \n",
      " 12  Weather_Conditions       646551 non-null  object        \n",
      " 13  Vehicle_Type             660679 non-null  object        \n",
      "dtypes: datetime64[ns](1), float64(2), int64(2), object(9)\n",
      "memory usage: 70.6+ MB\n"
     ]
    }
   ],
   "source": [
    "# So there is a majority of dataset is lost due to replacing of Index values\n",
    "# As Index values just dont contribute much information here we are not going back to the \n",
    "# previou sversion of dataset ie., data\n",
    "df2 = data.copy()\n",
    "df2.info()"
   ]
  },
  {
   "cell_type": "code",
   "execution_count": 17,
   "id": "f5a589b9",
   "metadata": {},
   "outputs": [],
   "source": [
    "# our dataset is back to the oiginal form\n",
    "# lets work here\n",
    "\n",
    "# Total Accidents -> KPI over Years\n",
    "# lets create a new column which has years\n",
    "\n",
    "df2[\"years\"] = df2[\"Accident Date\"].dt.year"
   ]
  },
  {
   "cell_type": "code",
   "execution_count": 18,
   "id": "cc7926fa",
   "metadata": {},
   "outputs": [
    {
     "data": {
      "text/html": [
       "<div>\n",
       "<style scoped>\n",
       "    .dataframe tbody tr th:only-of-type {\n",
       "        vertical-align: middle;\n",
       "    }\n",
       "\n",
       "    .dataframe tbody tr th {\n",
       "        vertical-align: top;\n",
       "    }\n",
       "\n",
       "    .dataframe thead th {\n",
       "        text-align: right;\n",
       "    }\n",
       "</style>\n",
       "<table border=\"1\" class=\"dataframe\">\n",
       "  <thead>\n",
       "    <tr style=\"text-align: right;\">\n",
       "      <th></th>\n",
       "      <th>Accident Date</th>\n",
       "      <th>years</th>\n",
       "    </tr>\n",
       "  </thead>\n",
       "  <tbody>\n",
       "    <tr>\n",
       "      <th>409915</th>\n",
       "      <td>2021-07-16</td>\n",
       "      <td>2021</td>\n",
       "    </tr>\n",
       "  </tbody>\n",
       "</table>\n",
       "</div>"
      ],
      "text/plain": [
       "       Accident Date  years\n",
       "409915    2021-07-16   2021"
      ]
     },
     "execution_count": 18,
     "metadata": {},
     "output_type": "execute_result"
    }
   ],
   "source": [
    "df2[[\"Accident Date\",\"years\"]].sample()"
   ]
  },
  {
   "cell_type": "code",
   "execution_count": 19,
   "id": "e74bd5a3",
   "metadata": {},
   "outputs": [],
   "source": [
    "# our new column has been created , lets find no of accidents in each year\n",
    "acc_per_year = df2.groupby(\"years\")[\"Index\"].count().reset_index()"
   ]
  },
  {
   "cell_type": "code",
   "execution_count": 20,
   "id": "f7f4b7d7",
   "metadata": {},
   "outputs": [
    {
     "data": {
      "image/png": "[encoded data removed]",
      "text/plain": [
       "<Figure size 900x500 with 1 Axes>"
      ]
     },
     "metadata": {},
     "output_type": "display_data"
    }
   ],
   "source": [
    "\n",
    "# setting the size of the plot\n",
    "plt.figure(figsize= (9,5))\n",
    "\n",
    "# givning the data to plot\n",
    "sns.barplot(acc_per_year,y = \"Index\",x = \"years\",palette=\"Set2\",width = 0.7)\n",
    "\n",
    "# removing the right spine\n",
    "ax = plt.gca()\n",
    "ax.spines[\"right\"].set_visible(False)\n",
    "ax.spines[\"top\"].set_visible(False)\n",
    "ax.spines[\"left\"].set_visible(False)\n",
    "\n",
    "# removing the yticklabels\n",
    "ax.set_yticklabels([])\n",
    "\n",
    "# removing the labels\n",
    "plt.xlabel(\"\")\n",
    "plt.ylabel(\"\")\n",
    "\n",
    "# Setting the Title\n",
    "plt.title(\"Accidents per Year\")\n",
    "\n",
    "# Annotating the bars\n",
    "for bar in ax.patches:\n",
    "    ax.annotate(int(bar.get_height()),\n",
    "               xy = (bar.get_x() + bar.get_width() /2, bar.get_height()),\n",
    "               ha = \"center\",\n",
    "               va = \"center\",\n",
    "               xytext = (0,10),\n",
    "               textcoords = \"offset points\")\n",
    "\n",
    "# Removing the ticks\n",
    "ax.tick_params(left = False)\n",
    "ax.tick_params(bottom = False)\n",
    "plt.show()"
   ]
  },
  {
   "cell_type": "code",
   "execution_count": 21,
   "id": "97c067f9",
   "metadata": {},
   "outputs": [],
   "source": [
    "class GenericBarPlot:\n",
    "    def __init__(self, data, x, y, title, palette=\"Set2\", width=0.7):\n",
    "        self.data = data\n",
    "        self.x = x\n",
    "        self.y = y\n",
    "        self.title = title\n",
    "        self.palette = palette\n",
    "        self.width = width\n",
    "\n",
    "    def plot(self):\n",
    "        # Setting the size of the plot\n",
    "        plt.figure(figsize=(16, 7))\n",
    "\n",
    "        # Giving the data to plot\n",
    "        sns.barplot(data=self.data, x=self.x, y=self.y, palette=self.palette, width=self.width)\n",
    "\n",
    "        # Removing the right spine\n",
    "        ax = plt.gca()\n",
    "        ax.spines[\"right\"].set_visible(False)\n",
    "        ax.spines[\"top\"].set_visible(False)\n",
    "        ax.spines[\"left\"].set_visible(False)\n",
    "\n",
    "        # Removing the yticklabels\n",
    "        ax.set_yticklabels([])\n",
    "\n",
    "        # Removing the labels\n",
    "        plt.xlabel(\"\")\n",
    "        plt.ylabel(\"\")\n",
    "\n",
    "        # Setting the Title\n",
    "        plt.title(self.title)\n",
    "\n",
    "        # Annotating the bars\n",
    "        for bar in ax.patches:\n",
    "            ax.annotate(int(bar.get_height()),\n",
    "                        xy=(bar.get_x() + bar.get_width() / 2, bar.get_height()),\n",
    "                        ha=\"center\",\n",
    "                        va=\"center\",\n",
    "                        xytext=(0, 10),\n",
    "                        textcoords=\"offset points\")\n",
    "\n",
    "        # Removing the ticks\n",
    "        ax.tick_params(left=False)\n",
    "        ax.tick_params(bottom=False)\n",
    "\n",
    "        plt.show()\n",
    "\n",
    "\n",
    "    "
   ]
  },
  {
   "cell_type": "code",
   "execution_count": 22,
   "id": "fe5f08e8",
   "metadata": {},
   "outputs": [
    {
     "data": {
      "image/png": "[encoded data removed]",
      "text/plain": [
       "<Figure size 1600x700 with 1 Axes>"
      ]
     },
     "metadata": {},
     "output_type": "display_data"
    }
   ],
   "source": [
    "acc_per_year_plot = GenericBarPlot(acc_per_year,x = \"years\",y = \"Index\",title= \"Accidents over Years\")\n",
    "\n",
    "acc_per_year_plot.plot()\n"
   ]
  },
  {
   "cell_type": "markdown",
   "id": "20d062fd",
   "metadata": {},
   "source": [
    "# YoY accident growth\n"
   ]
  },
  {
   "cell_type": "code",
   "execution_count": 23,
   "id": "78c7b1ad",
   "metadata": {},
   "outputs": [
    {
     "data": {
      "text/html": [
       "<div>\n",
       "<style scoped>\n",
       "    .dataframe tbody tr th:only-of-type {\n",
       "        vertical-align: middle;\n",
       "    }\n",
       "\n",
       "    .dataframe tbody tr th {\n",
       "        vertical-align: top;\n",
       "    }\n",
       "\n",
       "    .dataframe thead th {\n",
       "        text-align: right;\n",
       "    }\n",
       "</style>\n",
       "<table border=\"1\" class=\"dataframe\">\n",
       "  <thead>\n",
       "    <tr style=\"text-align: right;\">\n",
       "      <th></th>\n",
       "      <th>years</th>\n",
       "      <th>Index</th>\n",
       "      <th>Yoy growth</th>\n",
       "    </tr>\n",
       "  </thead>\n",
       "  <tbody>\n",
       "    <tr>\n",
       "      <th>0</th>\n",
       "      <td>2019</td>\n",
       "      <td>182115</td>\n",
       "      <td>NaN</td>\n",
       "    </tr>\n",
       "    <tr>\n",
       "      <th>1</th>\n",
       "      <td>2020</td>\n",
       "      <td>170591</td>\n",
       "      <td>-6.33</td>\n",
       "    </tr>\n",
       "    <tr>\n",
       "      <th>2</th>\n",
       "      <td>2021</td>\n",
       "      <td>163554</td>\n",
       "      <td>-4.13</td>\n",
       "    </tr>\n",
       "    <tr>\n",
       "      <th>3</th>\n",
       "      <td>2022</td>\n",
       "      <td>144419</td>\n",
       "      <td>-11.70</td>\n",
       "    </tr>\n",
       "  </tbody>\n",
       "</table>\n",
       "</div>"
      ],
      "text/plain": [
       "   years   Index  Yoy growth\n",
       "0   2019  182115         NaN\n",
       "1   2020  170591       -6.33\n",
       "2   2021  163554       -4.13\n",
       "3   2022  144419      -11.70"
      ]
     },
     "execution_count": 23,
     "metadata": {},
     "output_type": "execute_result"
    }
   ],
   "source": [
    "acc_per_year[\"Yoy growth\"] = acc_per_year[\"Index\"].pct_change()*100\n",
    "acc_per_year[\"Yoy growth\"] = acc_per_year[\"Yoy growth\"].round(2)\n",
    "acc_per_year"
   ]
  },
  {
   "cell_type": "code",
   "execution_count": 113,
   "id": "57a90544",
   "metadata": {},
   "outputs": [
    {
     "data": {
      "text/html": [
       "<div>\n",
       "<style scoped>\n",
       "    .dataframe tbody tr th:only-of-type {\n",
       "        vertical-align: middle;\n",
       "    }\n",
       "\n",
       "    .dataframe tbody tr th {\n",
       "        vertical-align: top;\n",
       "    }\n",
       "\n",
       "    .dataframe thead th {\n",
       "        text-align: right;\n",
       "    }\n",
       "</style>\n",
       "<table border=\"1\" class=\"dataframe\">\n",
       "  <thead>\n",
       "    <tr style=\"text-align: right;\">\n",
       "      <th></th>\n",
       "      <th>years</th>\n",
       "      <th>Number_of_Casualties</th>\n",
       "      <th>YoY growth</th>\n",
       "    </tr>\n",
       "  </thead>\n",
       "  <tbody>\n",
       "    <tr>\n",
       "      <th>0</th>\n",
       "      <td>2019</td>\n",
       "      <td>247780</td>\n",
       "      <td>NaN</td>\n",
       "    </tr>\n",
       "    <tr>\n",
       "      <th>1</th>\n",
       "      <td>2020</td>\n",
       "      <td>230905</td>\n",
       "      <td>-6.81</td>\n",
       "    </tr>\n",
       "    <tr>\n",
       "      <th>2</th>\n",
       "      <td>2021</td>\n",
       "      <td>222146</td>\n",
       "      <td>-3.79</td>\n",
       "    </tr>\n",
       "    <tr>\n",
       "      <th>3</th>\n",
       "      <td>2022</td>\n",
       "      <td>195737</td>\n",
       "      <td>-11.89</td>\n",
       "    </tr>\n",
       "  </tbody>\n",
       "</table>\n",
       "</div>"
      ],
      "text/plain": [
       "   years  Number_of_Casualties  YoY growth\n",
       "0   2019                247780         NaN\n",
       "1   2020                230905       -6.81\n",
       "2   2021                222146       -3.79\n",
       "3   2022                195737      -11.89"
      ]
     },
     "execution_count": 113,
     "metadata": {},
     "output_type": "execute_result"
    }
   ],
   "source": [
    "count_casualities"
   ]
  },
  {
   "cell_type": "code",
   "execution_count": 24,
   "id": "28637d8d",
   "metadata": {},
   "outputs": [
    {
     "data": {
      "image/png": "[encoded data removed]",
      "text/plain": [
       "<Figure size 1600x700 with 1 Axes>"
      ]
     },
     "metadata": {},
     "output_type": "display_data"
    }
   ],
   "source": [
    "count_casualities = df2.groupby(\"years\")[\"Number_of_Casualties\"].sum().reset_index()\n",
    "count_casualities[\"YoY growth\"] = count_casualities[\"Number_of_Casualties\"].pct_change()*100\n",
    "count_casualities[\"YoY growth\"] = count_casualities[\"YoY growth\"].round(2)\n",
    "count_casualities\n",
    "\n",
    "count_casualities_plot = GenericBarPlot(count_casualities, x= \"years\",y= \"Number_of_Casualties\",title=\"Number of Casualities Over Years\")\n",
    "count_casualities_plot.plot()"
   ]
  },
  {
   "cell_type": "markdown",
   "id": "41805261",
   "metadata": {},
   "source": [
    "## Fatal severity"
   ]
  },
  {
   "cell_type": "code",
   "execution_count": 114,
   "id": "1828db6d",
   "metadata": {},
   "outputs": [
    {
     "name": "stdout",
     "output_type": "stream",
     "text": [
      "total fatal Accidents : 8661\n"
     ]
    },
    {
     "data": {
      "image/png": "[encoded data removed]",
      "text/plain": [
       "<Figure size 1600x700 with 1 Axes>"
      ]
     },
     "metadata": {},
     "output_type": "display_data"
    },
    {
     "name": "stdout",
     "output_type": "stream",
     "text": [
      "   years  Index  Yoy Growth\n",
      "0   2019   2714         NaN\n",
      "1   2020   2341  -13.743552\n",
      "2   2021   2057  -12.131568\n",
      "3   2022   1549  -24.696159\n"
     ]
    }
   ],
   "source": [
    "print(\"total fatal Accidents :\",len(df2[df2[\"Accident_Severity\"] == \"Fatal\"]))\n",
    "\n",
    "year_wise_fatal_accidents  = df2[df2[\"Accident_Severity\"] == \"Fatal\"].groupby(\"years\")[\"Index\"].count().reset_index()\n",
    "year_wise_fatal_accidents[\"Yoy Growth\"] = year_wise_fatal_accidents[\"Index\"].pct_change()*100\n",
    "year_wise_fatal_accidents.round(2)\n",
    "\n",
    "year_wise_fatal_accidents_plot = GenericBarPlot(year_wise_fatal_accidents,x= \"years\",y = \"Index\",title= \"Fatal Accidents over Years\")\n",
    "year_wise_fatal_accidents_plot.plot()\n",
    "print(year_wise_fatal_accidents)"
   ]
  },
  {
   "cell_type": "code",
   "execution_count": 115,
   "id": "633a7a9c",
   "metadata": {},
   "outputs": [
    {
     "data": {
      "image/png": "[encoded data removed]",
      "text/plain": [
       "<Figure size 1600x700 with 1 Axes>"
      ]
     },
     "metadata": {},
     "output_type": "display_data"
    },
    {
     "name": "stdout",
     "output_type": "stream",
     "text": [
      "   years  Number_of_Casualties  YoY growth\n",
      "0   2019                  5351         NaN\n",
      "1   2020                  4398       -18.0\n",
      "2   2021                  3879       -12.0\n",
      "3   2022                  2855       -26.0\n"
     ]
    }
   ],
   "source": [
    "totalFatalCasualitiesinYears = df2[df2[\"Accident_Severity\"] == \"Fatal\"].groupby(\"years\")[\"Number_of_Casualties\"].sum().reset_index()\n",
    "totalFatalCasualitiesinYears[\"YoY growth\"] = totalFatalCasualitiesinYears.Number_of_Casualties.pct_change().round(2)*100\n",
    "totalFatalCasualitiesinYears_plot = GenericBarPlot(totalFatalCasualitiesinYears, y = \"Number_of_Casualties\",x = \"years\",title=\"Total Fatal Casualities in Years\")\n",
    "totalFatalCasualitiesinYears_plot.plot()\n",
    "print(totalFatalCasualitiesinYears)"
   ]
  },
  {
   "cell_type": "markdown",
   "id": "779d4287",
   "metadata": {},
   "source": [
    "## Serious casualities\n"
   ]
  },
  {
   "cell_type": "code",
   "execution_count": 27,
   "id": "472043ea",
   "metadata": {},
   "outputs": [
    {
     "data": {
      "image/png": "[encoded data removed]",
      "text/plain": [
       "<Figure size 1600x700 with 1 Axes>"
      ]
     },
     "metadata": {},
     "output_type": "display_data"
    }
   ],
   "source": [
    "number_of_Serious_Casualities = df2[df2[\"Accident_Severity\"] == \"Serious\"].groupby(\"years\")[\"Number_of_Casualties\"].sum().reset_index()\n",
    "number_of_Serious_Casualities_plot = GenericBarPlot(number_of_Serious_Casualities,title= \"Serious Casualities in Years\",x = \"years\",y = \"Number_of_Casualties\") \n",
    "number_of_Serious_Casualities_plot.plot()"
   ]
  },
  {
   "cell_type": "code",
   "execution_count": 28,
   "id": "e86ff343",
   "metadata": {},
   "outputs": [
    {
     "data": {
      "image/png": "[encoded data removed]",
      "text/plain": [
       "<Figure size 1600x700 with 1 Axes>"
      ]
     },
     "metadata": {},
     "output_type": "display_data"
    }
   ],
   "source": [
    "number_of_serious_accidents = df2[df2[\"Accident_Severity\"] == \"Serious\"].groupby(\"years\")[\"Index\"].count().reset_index()\n",
    "number_of_serious_accidents_plot = GenericBarPlot(number_of_serious_accidents, x = \"years\",y = \"Index\",title=\"Number of Serious Accidents over Years\")\n",
    "number_of_serious_accidents_plot.plot()"
   ]
  },
  {
   "cell_type": "code",
   "execution_count": 29,
   "id": "ff964fe0",
   "metadata": {},
   "outputs": [
    {
     "data": {
      "text/html": [
       "<div>\n",
       "<style scoped>\n",
       "    .dataframe tbody tr th:only-of-type {\n",
       "        vertical-align: middle;\n",
       "    }\n",
       "\n",
       "    .dataframe tbody tr th {\n",
       "        vertical-align: top;\n",
       "    }\n",
       "\n",
       "    .dataframe thead th {\n",
       "        text-align: right;\n",
       "    }\n",
       "</style>\n",
       "<table border=\"1\" class=\"dataframe\">\n",
       "  <thead>\n",
       "    <tr style=\"text-align: right;\">\n",
       "      <th></th>\n",
       "      <th>years</th>\n",
       "      <th>Index</th>\n",
       "      <th>Yoy change %</th>\n",
       "    </tr>\n",
       "  </thead>\n",
       "  <tbody>\n",
       "    <tr>\n",
       "      <th>0</th>\n",
       "      <td>2019</td>\n",
       "      <td>24322</td>\n",
       "      <td>NaN</td>\n",
       "    </tr>\n",
       "    <tr>\n",
       "      <th>1</th>\n",
       "      <td>2020</td>\n",
       "      <td>23121</td>\n",
       "      <td>-4.94</td>\n",
       "    </tr>\n",
       "    <tr>\n",
       "      <th>2</th>\n",
       "      <td>2021</td>\n",
       "      <td>21997</td>\n",
       "      <td>-4.86</td>\n",
       "    </tr>\n",
       "    <tr>\n",
       "      <th>3</th>\n",
       "      <td>2022</td>\n",
       "      <td>18777</td>\n",
       "      <td>-14.64</td>\n",
       "    </tr>\n",
       "  </tbody>\n",
       "</table>\n",
       "</div>"
      ],
      "text/plain": [
       "   years  Index  Yoy change %\n",
       "0   2019  24322           NaN\n",
       "1   2020  23121         -4.94\n",
       "2   2021  21997         -4.86\n",
       "3   2022  18777        -14.64"
      ]
     },
     "execution_count": 29,
     "metadata": {},
     "output_type": "execute_result"
    }
   ],
   "source": [
    "# YoY number_of_serious_accidents\n",
    "number_of_serious_accidents[\"Yoy change %\"] = number_of_serious_accidents[\"Index\"].pct_change().round(4)*100\n",
    "number_of_serious_accidents"
   ]
  },
  {
   "cell_type": "code",
   "execution_count": 30,
   "id": "f392d321",
   "metadata": {},
   "outputs": [
    {
     "data": {
      "text/html": [
       "<div>\n",
       "<style scoped>\n",
       "    .dataframe tbody tr th:only-of-type {\n",
       "        vertical-align: middle;\n",
       "    }\n",
       "\n",
       "    .dataframe tbody tr th {\n",
       "        vertical-align: top;\n",
       "    }\n",
       "\n",
       "    .dataframe thead th {\n",
       "        text-align: right;\n",
       "    }\n",
       "</style>\n",
       "<table border=\"1\" class=\"dataframe\">\n",
       "  <thead>\n",
       "    <tr style=\"text-align: right;\">\n",
       "      <th></th>\n",
       "      <th>years</th>\n",
       "      <th>Number_of_Casualties</th>\n",
       "      <th>YoY change %</th>\n",
       "    </tr>\n",
       "  </thead>\n",
       "  <tbody>\n",
       "    <tr>\n",
       "      <th>0</th>\n",
       "      <td>2019</td>\n",
       "      <td>36096</td>\n",
       "      <td>NaN</td>\n",
       "    </tr>\n",
       "    <tr>\n",
       "      <th>1</th>\n",
       "      <td>2020</td>\n",
       "      <td>33987</td>\n",
       "      <td>-5.84</td>\n",
       "    </tr>\n",
       "    <tr>\n",
       "      <th>2</th>\n",
       "      <td>2021</td>\n",
       "      <td>32311</td>\n",
       "      <td>-4.93</td>\n",
       "    </tr>\n",
       "    <tr>\n",
       "      <th>3</th>\n",
       "      <td>2022</td>\n",
       "      <td>27045</td>\n",
       "      <td>-16.30</td>\n",
       "    </tr>\n",
       "  </tbody>\n",
       "</table>\n",
       "</div>"
      ],
      "text/plain": [
       "   years  Number_of_Casualties  YoY change %\n",
       "0   2019                 36096           NaN\n",
       "1   2020                 33987         -5.84\n",
       "2   2021                 32311         -4.93\n",
       "3   2022                 27045        -16.30"
      ]
     },
     "execution_count": 30,
     "metadata": {},
     "output_type": "execute_result"
    }
   ],
   "source": [
    "# Yoy Casualities number_of_Serious_Casualities\n",
    "number_of_Serious_Casualities[\"YoY change %\"] = number_of_Serious_Casualities[\"Number_of_Casualties\"].pct_change().round(4)*100\n",
    "number_of_Serious_Casualities"
   ]
  },
  {
   "cell_type": "markdown",
   "id": "04da446a",
   "metadata": {},
   "source": [
    "## Slight Casualities"
   ]
  },
  {
   "cell_type": "code",
   "execution_count": 31,
   "id": "98c1eb09",
   "metadata": {},
   "outputs": [
    {
     "data": {
      "image/png": "[encoded data removed]",
      "text/plain": [
       "<Figure size 1600x700 with 1 Axes>"
      ]
     },
     "metadata": {},
     "output_type": "display_data"
    },
    {
     "data": {
      "text/html": [
       "<div>\n",
       "<style scoped>\n",
       "    .dataframe tbody tr th:only-of-type {\n",
       "        vertical-align: middle;\n",
       "    }\n",
       "\n",
       "    .dataframe tbody tr th {\n",
       "        vertical-align: top;\n",
       "    }\n",
       "\n",
       "    .dataframe thead th {\n",
       "        text-align: right;\n",
       "    }\n",
       "</style>\n",
       "<table border=\"1\" class=\"dataframe\">\n",
       "  <thead>\n",
       "    <tr style=\"text-align: right;\">\n",
       "      <th></th>\n",
       "      <th>years</th>\n",
       "      <th>Number_of_Casualties</th>\n",
       "      <th>Yoy change %</th>\n",
       "    </tr>\n",
       "  </thead>\n",
       "  <tbody>\n",
       "    <tr>\n",
       "      <th>0</th>\n",
       "      <td>2019</td>\n",
       "      <td>206333</td>\n",
       "      <td>NaN</td>\n",
       "    </tr>\n",
       "    <tr>\n",
       "      <th>1</th>\n",
       "      <td>2020</td>\n",
       "      <td>192520</td>\n",
       "      <td>-6.69</td>\n",
       "    </tr>\n",
       "    <tr>\n",
       "      <th>2</th>\n",
       "      <td>2021</td>\n",
       "      <td>185956</td>\n",
       "      <td>-3.41</td>\n",
       "    </tr>\n",
       "    <tr>\n",
       "      <th>3</th>\n",
       "      <td>2022</td>\n",
       "      <td>165837</td>\n",
       "      <td>-10.82</td>\n",
       "    </tr>\n",
       "  </tbody>\n",
       "</table>\n",
       "</div>"
      ],
      "text/plain": [
       "   years  Number_of_Casualties  Yoy change %\n",
       "0   2019                206333           NaN\n",
       "1   2020                192520         -6.69\n",
       "2   2021                185956         -3.41\n",
       "3   2022                165837        -10.82"
      ]
     },
     "execution_count": 31,
     "metadata": {},
     "output_type": "execute_result"
    }
   ],
   "source": [
    "numberOfSlightCasualities = df2[df2[\"Accident_Severity\"] == \"Slight\"].groupby(\"years\")[\"Number_of_Casualties\"].sum().reset_index()\n",
    "numberOfSlightCasualities[\"Yoy change %\"] = numberOfSlightCasualities[\"Number_of_Casualties\"].pct_change().round(4)*100\n",
    "\n",
    "numberOfSlightCasualities_plot = GenericBarPlot(numberOfSlightCasualities,y = \"Number_of_Casualties\",x= \"years\",title=\"Number of Slight Casuaities over Years\")\n",
    "numberOfSlightCasualities_plot.plot()\n",
    "numberOfSlightCasualities"
   ]
  },
  {
   "cell_type": "code",
   "execution_count": 32,
   "id": "c58c676d",
   "metadata": {},
   "outputs": [
    {
     "data": {
      "image/png": "[encoded data removed]",
      "text/plain": [
       "<Figure size 1600x700 with 1 Axes>"
      ]
     },
     "metadata": {},
     "output_type": "display_data"
    },
    {
     "data": {
      "text/html": [
       "<div>\n",
       "<style scoped>\n",
       "    .dataframe tbody tr th:only-of-type {\n",
       "        vertical-align: middle;\n",
       "    }\n",
       "\n",
       "    .dataframe tbody tr th {\n",
       "        vertical-align: top;\n",
       "    }\n",
       "\n",
       "    .dataframe thead th {\n",
       "        text-align: right;\n",
       "    }\n",
       "</style>\n",
       "<table border=\"1\" class=\"dataframe\">\n",
       "  <thead>\n",
       "    <tr style=\"text-align: right;\">\n",
       "      <th></th>\n",
       "      <th>years</th>\n",
       "      <th>Index</th>\n",
       "      <th>Yoy change %</th>\n",
       "    </tr>\n",
       "  </thead>\n",
       "  <tbody>\n",
       "    <tr>\n",
       "      <th>0</th>\n",
       "      <td>2019</td>\n",
       "      <td>155079</td>\n",
       "      <td>NaN</td>\n",
       "    </tr>\n",
       "    <tr>\n",
       "      <th>1</th>\n",
       "      <td>2020</td>\n",
       "      <td>145129</td>\n",
       "      <td>-6.42</td>\n",
       "    </tr>\n",
       "    <tr>\n",
       "      <th>2</th>\n",
       "      <td>2021</td>\n",
       "      <td>139500</td>\n",
       "      <td>-3.88</td>\n",
       "    </tr>\n",
       "    <tr>\n",
       "      <th>3</th>\n",
       "      <td>2022</td>\n",
       "      <td>124093</td>\n",
       "      <td>-11.04</td>\n",
       "    </tr>\n",
       "  </tbody>\n",
       "</table>\n",
       "</div>"
      ],
      "text/plain": [
       "   years   Index  Yoy change %\n",
       "0   2019  155079           NaN\n",
       "1   2020  145129         -6.42\n",
       "2   2021  139500         -3.88\n",
       "3   2022  124093        -11.04"
      ]
     },
     "execution_count": 32,
     "metadata": {},
     "output_type": "execute_result"
    }
   ],
   "source": [
    "numberOfSlightaccidents = df2[df2[\"Accident_Severity\"] == \"Slight\"].groupby(\"years\")[\"Index\"].count().reset_index()\n",
    "numberOfSlightaccidents[\"Yoy change %\"] = numberOfSlightaccidents[\"Index\"].pct_change().round(4)*100\n",
    "\n",
    "numberOfSlightaccidents_plot = GenericBarPlot(numberOfSlightaccidents,y = \"Index\",x= \"years\",title=\"Number of Slight Accidents over Years\")\n",
    "numberOfSlightaccidents_plot.plot()\n",
    "numberOfSlightaccidents"
   ]
  },
  {
   "cell_type": "code",
   "execution_count": 33,
   "id": "ad7b61b0",
   "metadata": {},
   "outputs": [],
   "source": [
    "# All 10 KPI's are Ready"
   ]
  },
  {
   "cell_type": "markdown",
   "id": "6d60ae7b",
   "metadata": {},
   "source": [
    "## Vehicle types"
   ]
  },
  {
   "cell_type": "code",
   "execution_count": 34,
   "id": "316eefe5",
   "metadata": {},
   "outputs": [
    {
     "name": "stdout",
     "output_type": "stream",
     "text": [
      "Types of Vehicles :  16\n"
     ]
    },
    {
     "data": {
      "text/plain": [
       "array(['Car', 'Taxi/Private hire car',\n",
       "       'Bus or coach (17 or more pass seats)', 'Other vehicle',\n",
       "       'Van / Goods 3.5 tonnes mgw or under',\n",
       "       'Motorcycle over 125cc and up to 500cc',\n",
       "       'Goods 7.5 tonnes mgw and over', 'Motorcycle 125cc and under',\n",
       "       'Motorcycle over 500cc', 'Motorcycle 50cc and under',\n",
       "       'Minibus (8 - 16 passenger seats)',\n",
       "       'Goods over 3.5t. and under 7.5t', 'Pedal cycle',\n",
       "       'Agricultural vehicle', 'Ridden horse',\n",
       "       'Data missing or out of range'], dtype=object)"
      ]
     },
     "execution_count": 34,
     "metadata": {},
     "output_type": "execute_result"
    }
   ],
   "source": [
    "print(\"Types of Vehicles : \",len(df2[\"Vehicle_Type\"].unique()))\n",
    "df2[\"Vehicle_Type\"].unique()"
   ]
  },
  {
   "cell_type": "code",
   "execution_count": 35,
   "id": "7541ee7f",
   "metadata": {},
   "outputs": [],
   "source": [
    "vehicle_group = {\"Car\": [\"Car\",\"Taxi/Private hire car\"],\n",
    "                \"Bus\" :[\"Bus or coach (17 or more pass seats)\",\"Minibus (8 - 16 passenger seats)\"],\n",
    "                \"Motor_cycle\" :[\"Motorcycle over 125cc and up to 500cc\",\"Motorcycle 125cc and under\",\"Motorcycle over 500cc\",\"Motorcycle 50cc and under\"],\n",
    "                \"Van\" : [\"Van / Goods 3.5 tonnes mgw or under\",\"Goods 7.5 tonnes mgw and over\",\"Goods over 3.5t. and under 7.5t\"],\n",
    "                \"Others\":[\"Pedal cycle\",'Ridden horse',\"Other vehicle\",\"Data missing or out of range\"],\n",
    "                'Agricultural vehicle' : ['Agricultural vehicle']\n",
    "               }"
   ]
  },
  {
   "cell_type": "code",
   "execution_count": 36,
   "id": "72bb7806",
   "metadata": {},
   "outputs": [],
   "source": [
    "# I can Use the map function if the dictionary is replaced ,like keays and values are replaced with each other\n",
    "\n",
    "\n",
    "def match_vehicle_group(vehicle):\n",
    "    for group , vehicles in vehicle_group.items():\n",
    "        if vehicle in vehicles:\n",
    "            return group\n",
    "    return \"Unknown\""
   ]
  },
  {
   "cell_type": "code",
   "execution_count": 37,
   "id": "77bb5dd2",
   "metadata": {},
   "outputs": [],
   "source": [
    "df2[\"Vehicle_group\"] = df2[\"Vehicle_Type\"].map(match_vehicle_group)"
   ]
  },
  {
   "cell_type": "code",
   "execution_count": 38,
   "id": "f170581f",
   "metadata": {},
   "outputs": [
    {
     "data": {
      "text/plain": [
       "array(['Car', 'Bus', 'Others', 'Van', 'Motor_cycle',\n",
       "       'Agricultural vehicle'], dtype=object)"
      ]
     },
     "execution_count": 38,
     "metadata": {},
     "output_type": "execute_result"
    }
   ],
   "source": [
    "df2[\"Vehicle_group\"].unique()"
   ]
  },
  {
   "cell_type": "code",
   "execution_count": 72,
   "id": "ca51f208",
   "metadata": {},
   "outputs": [
    {
     "name": "stdout",
     "output_type": "stream",
     "text": [
      "Enter the year : 2022\n"
     ]
    },
    {
     "data": {
      "image/png": "[encoded data removed]",
      "text/plain": [
       "<Figure size 1600x700 with 1 Axes>"
      ]
     },
     "metadata": {},
     "output_type": "display_data"
    }
   ],
   "source": [
    "years = int(input(\"Enter the year : \"))\n",
    "\n",
    "df3 = df2[df2[\"years\"] == years] # just chesking if my process is right or not\n",
    "\n",
    "casualities_vehicle_group = df3.groupby('Vehicle_group')[\"Number_of_Casualties\"].sum().reset_index().sort_values(by = 'Number_of_Casualties',ascending = False)\n",
    "casualities_vehicle_group_plot = GenericBarPlot(casualities_vehicle_group,x = \"Vehicle_group\",y = \"Number_of_Casualties\",title= f\"Vehicle Group Vs Number of Casualities for the year {years}\")\n",
    "casualities_vehicle_group_plot.plot()\n"
   ]
  },
  {
   "cell_type": "code",
   "execution_count": 120,
   "id": "0b9766bb",
   "metadata": {},
   "outputs": [
    {
     "data": {
      "text/html": [
       "<div>\n",
       "<style scoped>\n",
       "    .dataframe tbody tr th:only-of-type {\n",
       "        vertical-align: middle;\n",
       "    }\n",
       "\n",
       "    .dataframe tbody tr th {\n",
       "        vertical-align: top;\n",
       "    }\n",
       "\n",
       "    .dataframe thead th {\n",
       "        text-align: right;\n",
       "    }\n",
       "</style>\n",
       "<table border=\"1\" class=\"dataframe\">\n",
       "  <thead>\n",
       "    <tr style=\"text-align: right;\">\n",
       "      <th></th>\n",
       "      <th>Vehicle_group</th>\n",
       "      <th>Index</th>\n",
       "    </tr>\n",
       "  </thead>\n",
       "  <tbody>\n",
       "    <tr>\n",
       "      <th>2</th>\n",
       "      <td>Car</td>\n",
       "      <td>511286</td>\n",
       "    </tr>\n",
       "    <tr>\n",
       "      <th>5</th>\n",
       "      <td>Van</td>\n",
       "      <td>57563</td>\n",
       "    </tr>\n",
       "    <tr>\n",
       "      <th>3</th>\n",
       "      <td>Motor_cycle</td>\n",
       "      <td>56185</td>\n",
       "    </tr>\n",
       "    <tr>\n",
       "      <th>1</th>\n",
       "      <td>Bus</td>\n",
       "      <td>27854</td>\n",
       "    </tr>\n",
       "    <tr>\n",
       "      <th>4</th>\n",
       "      <td>Others</td>\n",
       "      <td>5844</td>\n",
       "    </tr>\n",
       "    <tr>\n",
       "      <th>0</th>\n",
       "      <td>Agricultural vehicle</td>\n",
       "      <td>1947</td>\n",
       "    </tr>\n",
       "  </tbody>\n",
       "</table>\n",
       "</div>"
      ],
      "text/plain": [
       "          Vehicle_group   Index\n",
       "2                   Car  511286\n",
       "5                   Van   57563\n",
       "3           Motor_cycle   56185\n",
       "1                   Bus   27854\n",
       "4                Others    5844\n",
       "0  Agricultural vehicle    1947"
      ]
     },
     "execution_count": 120,
     "metadata": {},
     "output_type": "execute_result"
    }
   ],
   "source": [
    "casualities_vehicle_group_2 = df2.groupby('Vehicle_group')[\"Index\"].count().reset_index().sort_values(by = 'Index',ascending = False)\n",
    "casualities_vehicle_group_2"
   ]
  },
  {
   "cell_type": "code",
   "execution_count": 54,
   "id": "9955e802",
   "metadata": {},
   "outputs": [
    {
     "data": {
      "text/html": [
       "<div>\n",
       "<style scoped>\n",
       "    .dataframe tbody tr th:only-of-type {\n",
       "        vertical-align: middle;\n",
       "    }\n",
       "\n",
       "    .dataframe tbody tr th {\n",
       "        vertical-align: top;\n",
       "    }\n",
       "\n",
       "    .dataframe thead th {\n",
       "        text-align: right;\n",
       "    }\n",
       "</style>\n",
       "<table border=\"1\" class=\"dataframe\">\n",
       "  <thead>\n",
       "    <tr style=\"text-align: right;\">\n",
       "      <th></th>\n",
       "      <th>Vehicle_group</th>\n",
       "      <th>Number_of_Casualties</th>\n",
       "    </tr>\n",
       "  </thead>\n",
       "  <tbody>\n",
       "    <tr>\n",
       "      <th>2</th>\n",
       "      <td>Car</td>\n",
       "      <td>694887</td>\n",
       "    </tr>\n",
       "    <tr>\n",
       "      <th>5</th>\n",
       "      <td>Van</td>\n",
       "      <td>77976</td>\n",
       "    </tr>\n",
       "    <tr>\n",
       "      <th>3</th>\n",
       "      <td>Motor_cycle</td>\n",
       "      <td>75680</td>\n",
       "    </tr>\n",
       "    <tr>\n",
       "      <th>1</th>\n",
       "      <td>Bus</td>\n",
       "      <td>37574</td>\n",
       "    </tr>\n",
       "    <tr>\n",
       "      <th>4</th>\n",
       "      <td>Others</td>\n",
       "      <td>7838</td>\n",
       "    </tr>\n",
       "    <tr>\n",
       "      <th>0</th>\n",
       "      <td>Agricultural vehicle</td>\n",
       "      <td>2613</td>\n",
       "    </tr>\n",
       "  </tbody>\n",
       "</table>\n",
       "</div>"
      ],
      "text/plain": [
       "          Vehicle_group  Number_of_Casualties\n",
       "2                   Car                694887\n",
       "5                   Van                 77976\n",
       "3           Motor_cycle                 75680\n",
       "1                   Bus                 37574\n",
       "4                Others                  7838\n",
       "0  Agricultural vehicle                  2613"
      ]
     },
     "execution_count": 54,
     "metadata": {},
     "output_type": "execute_result"
    }
   ],
   "source": [
    "\n",
    "casualities_vehicle_group = df2.groupby('Vehicle_group')[\"Number_of_Casualties\"].sum().reset_index().sort_values(by = 'Number_of_Casualties',ascending = False)\n",
    "casualities_vehicle_group"
   ]
  },
  {
   "cell_type": "code",
   "execution_count": 75,
   "id": "1e1b23d9",
   "metadata": {
    "scrolled": true
   },
   "outputs": [
    {
     "data": {
      "text/plain": [
       "Dry                     447821\n",
       "Wet or damp             186708\n",
       "Frost or ice             18517\n",
       "Snow                      5890\n",
       "Flood over 3cm. deep      1017\n",
       "Name: Road_Surface_Conditions, dtype: int64"
      ]
     },
     "execution_count": 75,
     "metadata": {},
     "output_type": "execute_result"
    }
   ],
   "source": [
    "df2[\"Road_Surface_Conditions\"].value_counts()"
   ]
  },
  {
   "cell_type": "code",
   "execution_count": 95,
   "id": "5f36119c",
   "metadata": {},
   "outputs": [],
   "source": [
    "road_Surface_map = {\"Wet\" : [\"Flood over 3cm. deep\",\"Wet or damp\"],\n",
    "                    \"Snow\" : [\"Frost or ice\",\"Snow\"],\n",
    "                    \"Dry\": [\"Dry\"]}"
   ]
  },
  {
   "cell_type": "code",
   "execution_count": 96,
   "id": "8dc30d16",
   "metadata": {},
   "outputs": [],
   "source": [
    "def map_road_surface_group(surface_type):\n",
    "    for key,value in road_Surface_map.items():\n",
    "        if surface_type in value:\n",
    "            return key\n",
    "    return \"Unknown\"\n",
    "    "
   ]
  },
  {
   "cell_type": "code",
   "execution_count": 98,
   "id": "73c2d1df",
   "metadata": {},
   "outputs": [],
   "source": [
    "df2[\"road_surface_grp\"] = df2[\"Road_Surface_Conditions\"].map(map_road_surface_group)"
   ]
  },
  {
   "cell_type": "code",
   "execution_count": 111,
   "id": "3a3ee46e",
   "metadata": {},
   "outputs": [
    {
     "data": {
      "text/html": [
       "<div>\n",
       "<style scoped>\n",
       "    .dataframe tbody tr th:only-of-type {\n",
       "        vertical-align: middle;\n",
       "    }\n",
       "\n",
       "    .dataframe tbody tr th {\n",
       "        vertical-align: top;\n",
       "    }\n",
       "\n",
       "    .dataframe thead th {\n",
       "        text-align: right;\n",
       "    }\n",
       "</style>\n",
       "<table border=\"1\" class=\"dataframe\">\n",
       "  <thead>\n",
       "    <tr style=\"text-align: right;\">\n",
       "      <th></th>\n",
       "      <th>Index</th>\n",
       "      <th>Accident_Severity</th>\n",
       "      <th>Accident Date</th>\n",
       "      <th>Latitude</th>\n",
       "      <th>Light_Conditions</th>\n",
       "      <th>District Area</th>\n",
       "      <th>Longitude</th>\n",
       "      <th>Number_of_Casualties</th>\n",
       "      <th>Number_of_Vehicles</th>\n",
       "      <th>Road_Surface_Conditions</th>\n",
       "      <th>Road_Type</th>\n",
       "      <th>Urban_or_Rural_Area</th>\n",
       "      <th>Weather_Conditions</th>\n",
       "      <th>Vehicle_Type</th>\n",
       "      <th>years</th>\n",
       "      <th>Vehicle_group</th>\n",
       "      <th>road_surface_grp</th>\n",
       "    </tr>\n",
       "  </thead>\n",
       "  <tbody>\n",
       "    <tr>\n",
       "      <th>0</th>\n",
       "      <td>200701BS64157</td>\n",
       "      <td>Serious</td>\n",
       "      <td>2019-06-05</td>\n",
       "      <td>51.506187</td>\n",
       "      <td>Darkness - lights lit</td>\n",
       "      <td>Kensington and Chelsea</td>\n",
       "      <td>-0.209082</td>\n",
       "      <td>1</td>\n",
       "      <td>2</td>\n",
       "      <td>Dry</td>\n",
       "      <td>Single carriageway</td>\n",
       "      <td>Urban</td>\n",
       "      <td>Fine no high winds</td>\n",
       "      <td>Car</td>\n",
       "      <td>2019</td>\n",
       "      <td>Car</td>\n",
       "      <td>Dry</td>\n",
       "    </tr>\n",
       "    <tr>\n",
       "      <th>1</th>\n",
       "      <td>200701BS65737</td>\n",
       "      <td>Serious</td>\n",
       "      <td>2019-07-02</td>\n",
       "      <td>51.495029</td>\n",
       "      <td>Daylight</td>\n",
       "      <td>Kensington and Chelsea</td>\n",
       "      <td>-0.173647</td>\n",
       "      <td>1</td>\n",
       "      <td>2</td>\n",
       "      <td>Wet or damp</td>\n",
       "      <td>Single carriageway</td>\n",
       "      <td>Urban</td>\n",
       "      <td>Raining no high winds</td>\n",
       "      <td>Car</td>\n",
       "      <td>2019</td>\n",
       "      <td>Car</td>\n",
       "      <td>Wet</td>\n",
       "    </tr>\n",
       "    <tr>\n",
       "      <th>2</th>\n",
       "      <td>200701BS66127</td>\n",
       "      <td>Serious</td>\n",
       "      <td>2019-08-26</td>\n",
       "      <td>51.517715</td>\n",
       "      <td>Darkness - lighting unknown</td>\n",
       "      <td>Kensington and Chelsea</td>\n",
       "      <td>-0.210215</td>\n",
       "      <td>1</td>\n",
       "      <td>3</td>\n",
       "      <td>Dry</td>\n",
       "      <td>NaN</td>\n",
       "      <td>Urban</td>\n",
       "      <td>NaN</td>\n",
       "      <td>Taxi/Private hire car</td>\n",
       "      <td>2019</td>\n",
       "      <td>Car</td>\n",
       "      <td>Dry</td>\n",
       "    </tr>\n",
       "    <tr>\n",
       "      <th>3</th>\n",
       "      <td>200701BS66128</td>\n",
       "      <td>Serious</td>\n",
       "      <td>2019-08-16</td>\n",
       "      <td>51.495478</td>\n",
       "      <td>Daylight</td>\n",
       "      <td>Kensington and Chelsea</td>\n",
       "      <td>-0.202731</td>\n",
       "      <td>1</td>\n",
       "      <td>4</td>\n",
       "      <td>Dry</td>\n",
       "      <td>Single carriageway</td>\n",
       "      <td>Urban</td>\n",
       "      <td>Fine no high winds</td>\n",
       "      <td>Bus or coach (17 or more pass seats)</td>\n",
       "      <td>2019</td>\n",
       "      <td>Bus</td>\n",
       "      <td>Dry</td>\n",
       "    </tr>\n",
       "    <tr>\n",
       "      <th>4</th>\n",
       "      <td>200701BS66837</td>\n",
       "      <td>Slight</td>\n",
       "      <td>2019-09-03</td>\n",
       "      <td>51.488576</td>\n",
       "      <td>Darkness - lights lit</td>\n",
       "      <td>Kensington and Chelsea</td>\n",
       "      <td>-0.192487</td>\n",
       "      <td>1</td>\n",
       "      <td>2</td>\n",
       "      <td>Dry</td>\n",
       "      <td>NaN</td>\n",
       "      <td>Urban</td>\n",
       "      <td>NaN</td>\n",
       "      <td>Other vehicle</td>\n",
       "      <td>2019</td>\n",
       "      <td>Others</td>\n",
       "      <td>Dry</td>\n",
       "    </tr>\n",
       "  </tbody>\n",
       "</table>\n",
       "</div>"
      ],
      "text/plain": [
       "           Index Accident_Severity Accident Date   Latitude  \\\n",
       "0  200701BS64157           Serious    2019-06-05  51.506187   \n",
       "1  200701BS65737           Serious    2019-07-02  51.495029   \n",
       "2  200701BS66127           Serious    2019-08-26  51.517715   \n",
       "3  200701BS66128           Serious    2019-08-16  51.495478   \n",
       "4  200701BS66837            Slight    2019-09-03  51.488576   \n",
       "\n",
       "              Light_Conditions           District Area  Longitude  \\\n",
       "0        Darkness - lights lit  Kensington and Chelsea  -0.209082   \n",
       "1                     Daylight  Kensington and Chelsea  -0.173647   \n",
       "2  Darkness - lighting unknown  Kensington and Chelsea  -0.210215   \n",
       "3                     Daylight  Kensington and Chelsea  -0.202731   \n",
       "4        Darkness - lights lit  Kensington and Chelsea  -0.192487   \n",
       "\n",
       "   Number_of_Casualties  Number_of_Vehicles Road_Surface_Conditions  \\\n",
       "0                     1                   2                     Dry   \n",
       "1                     1                   2             Wet or damp   \n",
       "2                     1                   3                     Dry   \n",
       "3                     1                   4                     Dry   \n",
       "4                     1                   2                     Dry   \n",
       "\n",
       "            Road_Type Urban_or_Rural_Area     Weather_Conditions  \\\n",
       "0  Single carriageway               Urban     Fine no high winds   \n",
       "1  Single carriageway               Urban  Raining no high winds   \n",
       "2                 NaN               Urban                    NaN   \n",
       "3  Single carriageway               Urban     Fine no high winds   \n",
       "4                 NaN               Urban                    NaN   \n",
       "\n",
       "                           Vehicle_Type  years Vehicle_group road_surface_grp  \n",
       "0                                   Car   2019           Car              Dry  \n",
       "1                                   Car   2019           Car              Wet  \n",
       "2                 Taxi/Private hire car   2019           Car              Dry  \n",
       "3  Bus or coach (17 or more pass seats)   2019           Bus              Dry  \n",
       "4                         Other vehicle   2019        Others              Dry  "
      ]
     },
     "execution_count": 111,
     "metadata": {},
     "output_type": "execute_result"
    }
   ],
   "source": [
    "df2.head()"
   ]
  },
  {
   "cell_type": "code",
   "execution_count": null,
   "id": "7069cd79",
   "metadata": {},
   "outputs": [],
   "source": []
  },
  {
   "cell_type": "code",
   "execution_count": null,
   "id": "e446c6b1",
   "metadata": {},
   "outputs": [],
   "source": []
  },
  {
   "cell_type": "code",
   "execution_count": null,
   "id": "dcc56055",
   "metadata": {},
   "outputs": [],
   "source": []
  }
 ],
 "metadata": {
  "kernelspec": {
   "display_name": "Python 3 (ipykernel)",
   "language": "python",
   "name": "python3"
  },
  "language_info": {
   "codemirror_mode": {
    "name": "ipython",
    "version": 3
   },
   "file_extension": ".py",
   "mimetype": "text/x-python",
   "name": "python",
   "nbconvert_exporter": "python",
   "pygments_lexer": "ipython3",
   "version": "3.10.9"
  }
 },
 "nbformat": 4,
 "nbformat_minor": 5
}
